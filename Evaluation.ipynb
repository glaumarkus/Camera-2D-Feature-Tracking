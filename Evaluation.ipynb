{
 "cells": [
  {
   "cell_type": "markdown",
   "metadata": {},
   "source": [
    "## Detectors"
   ]
  },
  {
   "cell_type": "code",
   "execution_count": 52,
   "metadata": {},
   "outputs": [
    {
     "data": {
      "text/html": [
       "<div>\n",
       "<style scoped>\n",
       "    .dataframe tbody tr th:only-of-type {\n",
       "        vertical-align: middle;\n",
       "    }\n",
       "\n",
       "    .dataframe tbody tr th {\n",
       "        vertical-align: top;\n",
       "    }\n",
       "\n",
       "    .dataframe thead th {\n",
       "        text-align: right;\n",
       "    }\n",
       "</style>\n",
       "<table border=\"1\" class=\"dataframe\">\n",
       "  <thead>\n",
       "    <tr style=\"text-align: right;\">\n",
       "      <th></th>\n",
       "      <th>detector</th>\n",
       "      <th>descriptor</th>\n",
       "      <th>img_id</th>\n",
       "      <th>pts</th>\n",
       "      <th>pts_on_car</th>\n",
       "      <th>matches</th>\n",
       "      <th>detection_time</th>\n",
       "      <th>description_time</th>\n",
       "      <th>total_time</th>\n",
       "      <th>match_dist</th>\n",
       "    </tr>\n",
       "  </thead>\n",
       "  <tbody>\n",
       "    <tr>\n",
       "      <th>0</th>\n",
       "      <td>SHITOMASI</td>\n",
       "      <td>BRISK</td>\n",
       "      <td>1</td>\n",
       "      <td>1301</td>\n",
       "      <td>118</td>\n",
       "      <td>125</td>\n",
       "      <td>18.7433</td>\n",
       "      <td>4.259840</td>\n",
       "      <td>23.0031</td>\n",
       "      <td>73.6480</td>\n",
       "    </tr>\n",
       "    <tr>\n",
       "      <th>1</th>\n",
       "      <td>SHITOMASI</td>\n",
       "      <td>BRISK</td>\n",
       "      <td>2</td>\n",
       "      <td>1361</td>\n",
       "      <td>123</td>\n",
       "      <td>118</td>\n",
       "      <td>17.9569</td>\n",
       "      <td>0.393216</td>\n",
       "      <td>18.3501</td>\n",
       "      <td>70.8729</td>\n",
       "    </tr>\n",
       "    <tr>\n",
       "      <th>2</th>\n",
       "      <td>SHITOMASI</td>\n",
       "      <td>BRISK</td>\n",
       "      <td>3</td>\n",
       "      <td>1358</td>\n",
       "      <td>120</td>\n",
       "      <td>123</td>\n",
       "      <td>16.3185</td>\n",
       "      <td>0.327680</td>\n",
       "      <td>16.6461</td>\n",
       "      <td>79.5122</td>\n",
       "    </tr>\n",
       "    <tr>\n",
       "      <th>3</th>\n",
       "      <td>SHITOMASI</td>\n",
       "      <td>BRISK</td>\n",
       "      <td>4</td>\n",
       "      <td>1333</td>\n",
       "      <td>120</td>\n",
       "      <td>120</td>\n",
       "      <td>16.1219</td>\n",
       "      <td>0.327680</td>\n",
       "      <td>16.4495</td>\n",
       "      <td>73.7000</td>\n",
       "    </tr>\n",
       "    <tr>\n",
       "      <th>4</th>\n",
       "      <td>SHITOMASI</td>\n",
       "      <td>BRISK</td>\n",
       "      <td>5</td>\n",
       "      <td>1284</td>\n",
       "      <td>113</td>\n",
       "      <td>120</td>\n",
       "      <td>16.0563</td>\n",
       "      <td>0.327680</td>\n",
       "      <td>16.3840</td>\n",
       "      <td>74.5833</td>\n",
       "    </tr>\n",
       "    <tr>\n",
       "      <th>5</th>\n",
       "      <td>SHITOMASI</td>\n",
       "      <td>BRISK</td>\n",
       "      <td>6</td>\n",
       "      <td>1322</td>\n",
       "      <td>114</td>\n",
       "      <td>113</td>\n",
       "      <td>16.0563</td>\n",
       "      <td>0.262144</td>\n",
       "      <td>16.3185</td>\n",
       "      <td>78.2301</td>\n",
       "    </tr>\n",
       "    <tr>\n",
       "      <th>6</th>\n",
       "      <td>SHITOMASI</td>\n",
       "      <td>BRISK</td>\n",
       "      <td>7</td>\n",
       "      <td>1366</td>\n",
       "      <td>123</td>\n",
       "      <td>114</td>\n",
       "      <td>17.0394</td>\n",
       "      <td>0.327680</td>\n",
       "      <td>17.3670</td>\n",
       "      <td>68.1228</td>\n",
       "    </tr>\n",
       "    <tr>\n",
       "      <th>7</th>\n",
       "      <td>SHITOMASI</td>\n",
       "      <td>BRISK</td>\n",
       "      <td>8</td>\n",
       "      <td>1389</td>\n",
       "      <td>111</td>\n",
       "      <td>123</td>\n",
       "      <td>16.9738</td>\n",
       "      <td>0.327680</td>\n",
       "      <td>17.3015</td>\n",
       "      <td>75.2683</td>\n",
       "    </tr>\n",
       "    <tr>\n",
       "      <th>8</th>\n",
       "      <td>SHITOMASI</td>\n",
       "      <td>BRISK</td>\n",
       "      <td>9</td>\n",
       "      <td>1339</td>\n",
       "      <td>112</td>\n",
       "      <td>111</td>\n",
       "      <td>16.1874</td>\n",
       "      <td>0.327680</td>\n",
       "      <td>16.5151</td>\n",
       "      <td>70.3063</td>\n",
       "    </tr>\n",
       "  </tbody>\n",
       "</table>\n",
       "</div>"
      ],
      "text/plain": [
       "    detector descriptor  img_id   pts  pts_on_car  matches  detection_time  \\\n",
       "0  SHITOMASI      BRISK       1  1301         118      125         18.7433   \n",
       "1  SHITOMASI      BRISK       2  1361         123      118         17.9569   \n",
       "2  SHITOMASI      BRISK       3  1358         120      123         16.3185   \n",
       "3  SHITOMASI      BRISK       4  1333         120      120         16.1219   \n",
       "4  SHITOMASI      BRISK       5  1284         113      120         16.0563   \n",
       "5  SHITOMASI      BRISK       6  1322         114      113         16.0563   \n",
       "6  SHITOMASI      BRISK       7  1366         123      114         17.0394   \n",
       "7  SHITOMASI      BRISK       8  1389         111      123         16.9738   \n",
       "8  SHITOMASI      BRISK       9  1339         112      111         16.1874   \n",
       "\n",
       "   description_time  total_time  match_dist  \n",
       "0          4.259840     23.0031     73.6480  \n",
       "1          0.393216     18.3501     70.8729  \n",
       "2          0.327680     16.6461     79.5122  \n",
       "3          0.327680     16.4495     73.7000  \n",
       "4          0.327680     16.3840     74.5833  \n",
       "5          0.262144     16.3185     78.2301  \n",
       "6          0.327680     17.3670     68.1228  \n",
       "7          0.327680     17.3015     75.2683  \n",
       "8          0.327680     16.5151     70.3063  "
      ]
     },
     "execution_count": 52,
     "metadata": {},
     "output_type": "execute_result"
    }
   ],
   "source": [
    "import numpy as np\n",
    "import pandas as pd\n",
    "\n",
    "df = pd.read_csv('performance.txt')\n",
    "df.head(9)"
   ]
  },
  {
   "cell_type": "markdown",
   "metadata": {},
   "source": [
    "The above data reflects all of the metrics used for the evaluation of the best detector/descriptor combination. Lets first take a brief look at different descriptors and their respective properties when averaging their respective statistics (pts, pts_on_car, detection_time)"
   ]
  },
  {
   "cell_type": "code",
   "execution_count": 19,
   "metadata": {},
   "outputs": [
    {
     "data": {
      "text/html": [
       "<div>\n",
       "<style scoped>\n",
       "    .dataframe tbody tr th:only-of-type {\n",
       "        vertical-align: middle;\n",
       "    }\n",
       "\n",
       "    .dataframe tbody tr th {\n",
       "        vertical-align: top;\n",
       "    }\n",
       "\n",
       "    .dataframe thead th {\n",
       "        text-align: right;\n",
       "    }\n",
       "</style>\n",
       "<table border=\"1\" class=\"dataframe\">\n",
       "  <thead>\n",
       "    <tr style=\"text-align: right;\">\n",
       "      <th></th>\n",
       "      <th>detector</th>\n",
       "      <th>pts</th>\n",
       "      <th>pts_on_car</th>\n",
       "      <th>time</th>\n",
       "      <th>%_on_car</th>\n",
       "    </tr>\n",
       "  </thead>\n",
       "  <tbody>\n",
       "    <tr>\n",
       "      <th>0</th>\n",
       "      <td>SHITOMASI</td>\n",
       "      <td>1339.222222</td>\n",
       "      <td>117.111111</td>\n",
       "      <td>16.828200</td>\n",
       "      <td>0.087447</td>\n",
       "    </tr>\n",
       "    <tr>\n",
       "      <th>1</th>\n",
       "      <td>HARRIS</td>\n",
       "      <td>180.222222</td>\n",
       "      <td>25.666667</td>\n",
       "      <td>14.898533</td>\n",
       "      <td>0.142417</td>\n",
       "    </tr>\n",
       "    <tr>\n",
       "      <th>2</th>\n",
       "      <td>FAST</td>\n",
       "      <td>4904.555556</td>\n",
       "      <td>408.333333</td>\n",
       "      <td>2.133561</td>\n",
       "      <td>0.083256</td>\n",
       "    </tr>\n",
       "    <tr>\n",
       "      <th>3</th>\n",
       "      <td>BRISK</td>\n",
       "      <td>2706.555556</td>\n",
       "      <td>277.555556</td>\n",
       "      <td>377.400000</td>\n",
       "      <td>0.102549</td>\n",
       "    </tr>\n",
       "    <tr>\n",
       "      <th>4</th>\n",
       "      <td>ORB</td>\n",
       "      <td>500.000000</td>\n",
       "      <td>118.777778</td>\n",
       "      <td>7.616739</td>\n",
       "      <td>0.237556</td>\n",
       "    </tr>\n",
       "    <tr>\n",
       "      <th>5</th>\n",
       "      <td>AKAZE</td>\n",
       "      <td>1342.000000</td>\n",
       "      <td>167.111111</td>\n",
       "      <td>71.922100</td>\n",
       "      <td>0.124524</td>\n",
       "    </tr>\n",
       "    <tr>\n",
       "      <th>6</th>\n",
       "      <td>SIFT</td>\n",
       "      <td>1380.444444</td>\n",
       "      <td>138.666667</td>\n",
       "      <td>129.637667</td>\n",
       "      <td>0.100451</td>\n",
       "    </tr>\n",
       "  </tbody>\n",
       "</table>\n",
       "</div>"
      ],
      "text/plain": [
       "    detector          pts  pts_on_car        time  %_on_car\n",
       "0  SHITOMASI  1339.222222  117.111111   16.828200  0.087447\n",
       "1     HARRIS   180.222222   25.666667   14.898533  0.142417\n",
       "2       FAST  4904.555556  408.333333    2.133561  0.083256\n",
       "3      BRISK  2706.555556  277.555556  377.400000  0.102549\n",
       "4        ORB   500.000000  118.777778    7.616739  0.237556\n",
       "5      AKAZE  1342.000000  167.111111   71.922100  0.124524\n",
       "6       SIFT  1380.444444  138.666667  129.637667  0.100451"
      ]
     },
     "execution_count": 19,
     "metadata": {},
     "output_type": "execute_result"
    }
   ],
   "source": [
    "l = []\n",
    "p = []\n",
    "\n",
    "for i in range(0, len(df), 9):\n",
    "    det = df.iloc[i][0]\n",
    "    des = df.iloc[i][1]\n",
    "    \n",
    "    pts = np.mean([df.iloc[i+j][3] for j in range(0,9)])\n",
    "    pts_car = np.mean([df.iloc[i+j][4] for j in range(0,9)])\n",
    "    det_times = np.mean([df.iloc[i+j][6] for j in range(0,9)])\n",
    "    \n",
    "    l.append([\n",
    "        det,pts,pts_car,det_times\n",
    "    ])\n",
    "    \n",
    "for i, line in enumerate(l):\n",
    "    if len(p) == 0:\n",
    "        p.append(line)\n",
    "    else:\n",
    "        if p[len(p)-1][0] == line[0]:\n",
    "            continue\n",
    "        else:\n",
    "            p.append(line)\n",
    "    \n",
    "detectors = pd.DataFrame(p)\n",
    "detectors.columns = ['detector', 'pts', 'pts_on_car', 'time']\n",
    "detectors['%_on_car'] = detectors[\"pts_on_car\"] / detectors['pts']\n",
    "detectors"
   ]
  },
  {
   "cell_type": "code",
   "execution_count": 33,
   "metadata": {},
   "outputs": [
    {
     "data": {
      "image/png": "[encoded data removed]",
      "text/plain": [
       "<Figure size 360x360 with 1 Axes>"
      ]
     },
     "metadata": {
      "needs_background": "light"
     },
     "output_type": "display_data"
    }
   ],
   "source": [
    "import seaborn as sns\n",
    "import matplotlib.pyplot as plt\n",
    "\n",
    "sns.catplot(y=\"detector\", x=\"pts\", data=detectors.sort_values(['pts'], ascending=False), kind=\"bar\");"
   ]
  },
  {
   "cell_type": "code",
   "execution_count": 35,
   "metadata": {},
   "outputs": [
    {
     "data": {
      "image/png": "[encoded data removed]",
      "text/plain": [
       "<Figure size 360x360 with 1 Axes>"
      ]
     },
     "metadata": {
      "needs_background": "light"
     },
     "output_type": "display_data"
    }
   ],
   "source": [
    "sns.catplot(y=\"detector\", x=\"pts_on_car\", data=detectors.sort_values(['pts_on_car'], ascending=False), kind=\"bar\");"
   ]
  },
  {
   "cell_type": "code",
   "execution_count": 36,
   "metadata": {},
   "outputs": [
    {
     "data": {
      "image/png": "[encoded data removed]",
      "text/plain": [
       "<Figure size 360x360 with 1 Axes>"
      ]
     },
     "metadata": {
      "needs_background": "light"
     },
     "output_type": "display_data"
    }
   ],
   "source": [
    "sns.catplot(y=\"detector\", x=\"%_on_car\", data=detectors.sort_values(['%_on_car'], ascending=False), kind=\"bar\");"
   ]
  },
  {
   "cell_type": "code",
   "execution_count": 37,
   "metadata": {},
   "outputs": [
    {
     "data": {
      "image/png": "[encoded data removed]",
      "text/plain": [
       "<Figure size 360x360 with 1 Axes>"
      ]
     },
     "metadata": {
      "needs_background": "light"
     },
     "output_type": "display_data"
    }
   ],
   "source": [
    "sns.catplot(y=\"detector\", x=\"time\", data=detectors.sort_values(['time'], ascending=False), kind=\"bar\");"
   ]
  },
  {
   "cell_type": "markdown",
   "metadata": {},
   "source": [
    "Looking at the quick evalution above we can clearly already make a statement on some of the detectors. First of all it can be seen that AKAZE, SIFT and BRISK take way too long in general to be applied in a embedded system on a car with 100ms up to >300ms. Even though their overall performance in locating keypoints on the car seems reasonable seems \"middle of the pack\", I would assume at this point that ORB and FAST show at least equal performance in terms of being able to locate keypoints at a much faster speed. \n",
    "\n",
    "Average Keypoint detections range from around 100 up to 400 for one detector. This seems to be a reasonable number considering the cropped region of interest and the percentage of points on the car. ORB in general detects not many keypoints in the original image but has a really high percentage of detecting them on cars. This may be an advantage of using ORB for car detection, since other keypoints as a road/nature are not that relevant for image processing and are better clustered by using 3D sensors. "
   ]
  },
  {
   "cell_type": "markdown",
   "metadata": {},
   "source": [
    "## Describers\n",
    "\n",
    "When looking at different describers, it is obvious that they are way less time consuming than the detectors. Overall statistics show a median of 0.32 ms, which is really slow. The one outlier with 4ms is actually the first calculation, so my conclusion would be to exclude that from the overall statistic. In general this seems not to be a time consuming task, therefore I would not value the execution time, but rather the robustness of the description and the matching process. "
   ]
  },
  {
   "cell_type": "code",
   "execution_count": 45,
   "metadata": {},
   "outputs": [
    {
     "data": {
      "text/plain": [
       "count    270.000000\n",
       "mean       0.756334\n",
       "std        0.817969\n",
       "min        0.000000\n",
       "25%        0.262144\n",
       "50%        0.327680\n",
       "75%        1.048580\n",
       "max        4.259840\n",
       "Name: description_time, dtype: float64"
      ]
     },
     "execution_count": 45,
     "metadata": {},
     "output_type": "execute_result"
    }
   ],
   "source": [
    "np.mean(df['description_time'])\n",
    "df.describe()['description_time']"
   ]
  },
  {
   "cell_type": "markdown",
   "metadata": {},
   "source": [
    "For analysing the robustness, I am filtering the original data to remove BRISK, AKAZE and SIFT. Then I want to calculate the percentage of matched points from 2 observations and also give some insight in the accuracy of the detection by the mean distance between keypoints in image 1 and 2. Lastly we take into account the overall speed of the combination."
   ]
  },
  {
   "cell_type": "code",
   "execution_count": 47,
   "metadata": {},
   "outputs": [
    {
     "data": {
      "text/html": [
       "<div>\n",
       "<style scoped>\n",
       "    .dataframe tbody tr th:only-of-type {\n",
       "        vertical-align: middle;\n",
       "    }\n",
       "\n",
       "    .dataframe tbody tr th {\n",
       "        vertical-align: top;\n",
       "    }\n",
       "\n",
       "    .dataframe thead th {\n",
       "        text-align: right;\n",
       "    }\n",
       "</style>\n",
       "<table border=\"1\" class=\"dataframe\">\n",
       "  <thead>\n",
       "    <tr style=\"text-align: right;\">\n",
       "      <th></th>\n",
       "      <th>detector</th>\n",
       "      <th>descriptor</th>\n",
       "      <th>pts_on_car</th>\n",
       "      <th>matches</th>\n",
       "      <th>time</th>\n",
       "      <th>match_dist</th>\n",
       "      <th>%_matched</th>\n",
       "      <th>comb</th>\n",
       "    </tr>\n",
       "  </thead>\n",
       "  <tbody>\n",
       "    <tr>\n",
       "      <th>0</th>\n",
       "      <td>SHITOMASI</td>\n",
       "      <td>BRISK</td>\n",
       "      <td>117.111111</td>\n",
       "      <td>118.555556</td>\n",
       "      <td>17.592767</td>\n",
       "      <td>73.804878</td>\n",
       "      <td>1.012334</td>\n",
       "      <td>SHITOMASI_BRISK</td>\n",
       "    </tr>\n",
       "    <tr>\n",
       "      <th>1</th>\n",
       "      <td>SHITOMASI</td>\n",
       "      <td>BRIEF</td>\n",
       "      <td>117.111111</td>\n",
       "      <td>118.555556</td>\n",
       "      <td>16.762644</td>\n",
       "      <td>16.555767</td>\n",
       "      <td>1.012334</td>\n",
       "      <td>SHITOMASI_BRIEF</td>\n",
       "    </tr>\n",
       "    <tr>\n",
       "      <th>2</th>\n",
       "      <td>SHITOMASI</td>\n",
       "      <td>ORB</td>\n",
       "      <td>117.111111</td>\n",
       "      <td>118.555556</td>\n",
       "      <td>16.653422</td>\n",
       "      <td>21.960111</td>\n",
       "      <td>1.012334</td>\n",
       "      <td>SHITOMASI_ORB</td>\n",
       "    </tr>\n",
       "    <tr>\n",
       "      <th>3</th>\n",
       "      <td>SHITOMASI</td>\n",
       "      <td>FREAK</td>\n",
       "      <td>117.111111</td>\n",
       "      <td>118.555556</td>\n",
       "      <td>12.495533</td>\n",
       "      <td>60.805056</td>\n",
       "      <td>1.012334</td>\n",
       "      <td>SHITOMASI_FREAK</td>\n",
       "    </tr>\n",
       "    <tr>\n",
       "      <th>4</th>\n",
       "      <td>SHITOMASI</td>\n",
       "      <td>SIFT</td>\n",
       "      <td>117.111111</td>\n",
       "      <td>118.555556</td>\n",
       "      <td>12.903300</td>\n",
       "      <td>117.044778</td>\n",
       "      <td>1.012334</td>\n",
       "      <td>SHITOMASI_SIFT</td>\n",
       "    </tr>\n",
       "    <tr>\n",
       "      <th>5</th>\n",
       "      <td>HARRIS</td>\n",
       "      <td>BRISK</td>\n",
       "      <td>25.666667</td>\n",
       "      <td>23.777778</td>\n",
       "      <td>15.007744</td>\n",
       "      <td>85.677567</td>\n",
       "      <td>0.926407</td>\n",
       "      <td>HARRIS_BRISK</td>\n",
       "    </tr>\n",
       "    <tr>\n",
       "      <th>6</th>\n",
       "      <td>HARRIS</td>\n",
       "      <td>BRIEF</td>\n",
       "      <td>25.666667</td>\n",
       "      <td>23.777778</td>\n",
       "      <td>15.131533</td>\n",
       "      <td>23.319856</td>\n",
       "      <td>0.926407</td>\n",
       "      <td>HARRIS_BRIEF</td>\n",
       "    </tr>\n",
       "    <tr>\n",
       "      <th>7</th>\n",
       "      <td>HARRIS</td>\n",
       "      <td>ORB</td>\n",
       "      <td>25.666667</td>\n",
       "      <td>23.777778</td>\n",
       "      <td>14.578133</td>\n",
       "      <td>27.927089</td>\n",
       "      <td>0.926407</td>\n",
       "      <td>HARRIS_ORB</td>\n",
       "    </tr>\n",
       "    <tr>\n",
       "      <th>8</th>\n",
       "      <td>HARRIS</td>\n",
       "      <td>FREAK</td>\n",
       "      <td>25.666667</td>\n",
       "      <td>23.777778</td>\n",
       "      <td>14.731044</td>\n",
       "      <td>71.778456</td>\n",
       "      <td>0.926407</td>\n",
       "      <td>HARRIS_FREAK</td>\n",
       "    </tr>\n",
       "    <tr>\n",
       "      <th>9</th>\n",
       "      <td>HARRIS</td>\n",
       "      <td>SIFT</td>\n",
       "      <td>25.666667</td>\n",
       "      <td>23.777778</td>\n",
       "      <td>15.881544</td>\n",
       "      <td>126.656856</td>\n",
       "      <td>0.926407</td>\n",
       "      <td>HARRIS_SIFT</td>\n",
       "    </tr>\n",
       "    <tr>\n",
       "      <th>10</th>\n",
       "      <td>FAST</td>\n",
       "      <td>BRISK</td>\n",
       "      <td>408.333333</td>\n",
       "      <td>410.333333</td>\n",
       "      <td>4.237994</td>\n",
       "      <td>77.486678</td>\n",
       "      <td>1.004898</td>\n",
       "      <td>FAST_BRISK</td>\n",
       "    </tr>\n",
       "    <tr>\n",
       "      <th>11</th>\n",
       "      <td>FAST</td>\n",
       "      <td>BRIEF</td>\n",
       "      <td>408.333333</td>\n",
       "      <td>410.333333</td>\n",
       "      <td>4.012260</td>\n",
       "      <td>16.677844</td>\n",
       "      <td>1.004898</td>\n",
       "      <td>FAST_BRIEF</td>\n",
       "    </tr>\n",
       "    <tr>\n",
       "      <th>12</th>\n",
       "      <td>FAST</td>\n",
       "      <td>ORB</td>\n",
       "      <td>408.333333</td>\n",
       "      <td>410.333333</td>\n",
       "      <td>4.019540</td>\n",
       "      <td>23.014778</td>\n",
       "      <td>1.004898</td>\n",
       "      <td>FAST_ORB</td>\n",
       "    </tr>\n",
       "    <tr>\n",
       "      <th>13</th>\n",
       "      <td>FAST</td>\n",
       "      <td>FREAK</td>\n",
       "      <td>408.333333</td>\n",
       "      <td>410.333333</td>\n",
       "      <td>4.172458</td>\n",
       "      <td>60.159744</td>\n",
       "      <td>1.004898</td>\n",
       "      <td>FAST_FREAK</td>\n",
       "    </tr>\n",
       "    <tr>\n",
       "      <th>14</th>\n",
       "      <td>FAST</td>\n",
       "      <td>SIFT</td>\n",
       "      <td>408.333333</td>\n",
       "      <td>410.333333</td>\n",
       "      <td>5.293852</td>\n",
       "      <td>82.047478</td>\n",
       "      <td>1.004898</td>\n",
       "      <td>FAST_SIFT</td>\n",
       "    </tr>\n",
       "    <tr>\n",
       "      <th>15</th>\n",
       "      <td>ORB</td>\n",
       "      <td>BRISK</td>\n",
       "      <td>118.777778</td>\n",
       "      <td>105.555556</td>\n",
       "      <td>7.900729</td>\n",
       "      <td>52.276222</td>\n",
       "      <td>0.888681</td>\n",
       "      <td>ORB_BRISK</td>\n",
       "    </tr>\n",
       "    <tr>\n",
       "      <th>16</th>\n",
       "      <td>ORB</td>\n",
       "      <td>BRIEF</td>\n",
       "      <td>118.777778</td>\n",
       "      <td>114.777778</td>\n",
       "      <td>7.660430</td>\n",
       "      <td>15.117744</td>\n",
       "      <td>0.966324</td>\n",
       "      <td>ORB_BRIEF</td>\n",
       "    </tr>\n",
       "    <tr>\n",
       "      <th>17</th>\n",
       "      <td>ORB</td>\n",
       "      <td>ORB</td>\n",
       "      <td>118.777778</td>\n",
       "      <td>114.777778</td>\n",
       "      <td>7.733248</td>\n",
       "      <td>32.477078</td>\n",
       "      <td>0.966324</td>\n",
       "      <td>ORB_ORB</td>\n",
       "    </tr>\n",
       "    <tr>\n",
       "      <th>18</th>\n",
       "      <td>ORB</td>\n",
       "      <td>FREAK</td>\n",
       "      <td>118.777778</td>\n",
       "      <td>61.000000</td>\n",
       "      <td>7.522077</td>\n",
       "      <td>44.843344</td>\n",
       "      <td>0.513564</td>\n",
       "      <td>ORB_FREAK</td>\n",
       "    </tr>\n",
       "    <tr>\n",
       "      <th>19</th>\n",
       "      <td>ORB</td>\n",
       "      <td>SIFT</td>\n",
       "      <td>118.777778</td>\n",
       "      <td>114.777778</td>\n",
       "      <td>7.820630</td>\n",
       "      <td>84.494744</td>\n",
       "      <td>0.966324</td>\n",
       "      <td>ORB_SIFT</td>\n",
       "    </tr>\n",
       "  </tbody>\n",
       "</table>\n",
       "</div>"
      ],
      "text/plain": [
       "     detector descriptor  pts_on_car     matches       time  match_dist  \\\n",
       "0   SHITOMASI      BRISK  117.111111  118.555556  17.592767   73.804878   \n",
       "1   SHITOMASI      BRIEF  117.111111  118.555556  16.762644   16.555767   \n",
       "2   SHITOMASI        ORB  117.111111  118.555556  16.653422   21.960111   \n",
       "3   SHITOMASI      FREAK  117.111111  118.555556  12.495533   60.805056   \n",
       "4   SHITOMASI       SIFT  117.111111  118.555556  12.903300  117.044778   \n",
       "5      HARRIS      BRISK   25.666667   23.777778  15.007744   85.677567   \n",
       "6      HARRIS      BRIEF   25.666667   23.777778  15.131533   23.319856   \n",
       "7      HARRIS        ORB   25.666667   23.777778  14.578133   27.927089   \n",
       "8      HARRIS      FREAK   25.666667   23.777778  14.731044   71.778456   \n",
       "9      HARRIS       SIFT   25.666667   23.777778  15.881544  126.656856   \n",
       "10       FAST      BRISK  408.333333  410.333333   4.237994   77.486678   \n",
       "11       FAST      BRIEF  408.333333  410.333333   4.012260   16.677844   \n",
       "12       FAST        ORB  408.333333  410.333333   4.019540   23.014778   \n",
       "13       FAST      FREAK  408.333333  410.333333   4.172458   60.159744   \n",
       "14       FAST       SIFT  408.333333  410.333333   5.293852   82.047478   \n",
       "15        ORB      BRISK  118.777778  105.555556   7.900729   52.276222   \n",
       "16        ORB      BRIEF  118.777778  114.777778   7.660430   15.117744   \n",
       "17        ORB        ORB  118.777778  114.777778   7.733248   32.477078   \n",
       "18        ORB      FREAK  118.777778   61.000000   7.522077   44.843344   \n",
       "19        ORB       SIFT  118.777778  114.777778   7.820630   84.494744   \n",
       "\n",
       "    %_matched             comb  \n",
       "0    1.012334  SHITOMASI_BRISK  \n",
       "1    1.012334  SHITOMASI_BRIEF  \n",
       "2    1.012334    SHITOMASI_ORB  \n",
       "3    1.012334  SHITOMASI_FREAK  \n",
       "4    1.012334   SHITOMASI_SIFT  \n",
       "5    0.926407     HARRIS_BRISK  \n",
       "6    0.926407     HARRIS_BRIEF  \n",
       "7    0.926407       HARRIS_ORB  \n",
       "8    0.926407     HARRIS_FREAK  \n",
       "9    0.926407      HARRIS_SIFT  \n",
       "10   1.004898       FAST_BRISK  \n",
       "11   1.004898       FAST_BRIEF  \n",
       "12   1.004898         FAST_ORB  \n",
       "13   1.004898       FAST_FREAK  \n",
       "14   1.004898        FAST_SIFT  \n",
       "15   0.888681        ORB_BRISK  \n",
       "16   0.966324        ORB_BRIEF  \n",
       "17   0.966324          ORB_ORB  \n",
       "18   0.513564        ORB_FREAK  \n",
       "19   0.966324         ORB_SIFT  "
      ]
     },
     "execution_count": 47,
     "metadata": {},
     "output_type": "execute_result"
    }
   ],
   "source": [
    "l = []\n",
    "\n",
    "for i in range(0, len(df), 9):\n",
    "    det = df.iloc[i][0]\n",
    "    \n",
    "    if det == \"AKAZE\" or det == \"BRISK\" or det == \"SIFT\":\n",
    "        continue\n",
    "    \n",
    "    des = df.iloc[i][1]\n",
    "    pts_car = np.mean([df.iloc[i+j][4] for j in range(0,9)])\n",
    "    matches = np.mean([df.iloc[i+j][5] for j in range(0,9)])\n",
    "    total_times = np.mean([df.iloc[i+j][8] for j in range(0,9)])\n",
    "    match_dist = np.mean([df.iloc[i+j][9] for j in range(0,9)])\n",
    "    \n",
    "    l.append([\n",
    "        det,des,pts_car,matches,total_times, match_dist\n",
    "    ])\n",
    "    \n",
    "combs = pd.DataFrame(l)\n",
    "combs.columns = ['detector', 'descriptor', 'pts_on_car', 'matches', 'time', 'match_dist']\n",
    "combs['%_matched'] = combs['matches'] / combs['pts_on_car']\n",
    "combs['comb'] = combs['detector'] + '_' + combs['descriptor']\n",
    "combs"
   ]
  },
  {
   "cell_type": "code",
   "execution_count": 49,
   "metadata": {},
   "outputs": [
    {
     "data": {
      "image/png": "[encoded data removed]",
      "text/plain": [
       "<Figure size 360x360 with 1 Axes>"
      ]
     },
     "metadata": {
      "needs_background": "light"
     },
     "output_type": "display_data"
    }
   ],
   "source": [
    "sns.catplot(y=\"comb\", x=\"%_matched\", data=combs.sort_values(['%_matched'], ascending=False), kind=\"bar\");"
   ]
  },
  {
   "cell_type": "code",
   "execution_count": 50,
   "metadata": {},
   "outputs": [
    {
     "data": {
      "image/png": "[encoded data removed]",
      "text/plain": [
       "<Figure size 360x360 with 1 Axes>"
      ]
     },
     "metadata": {
      "needs_background": "light"
     },
     "output_type": "display_data"
    }
   ],
   "source": [
    "sns.catplot(y=\"comb\", x=\"match_dist\", data=combs.sort_values(['match_dist'], ascending=False), kind=\"bar\");"
   ]
  },
  {
   "cell_type": "code",
   "execution_count": 51,
   "metadata": {},
   "outputs": [
    {
     "data": {
      "image/png": "[encoded data removed]",
      "text/plain": [
       "<Figure size 360x360 with 1 Axes>"
      ]
     },
     "metadata": {
      "needs_background": "light"
     },
     "output_type": "display_data"
    }
   ],
   "source": [
    "sns.catplot(y=\"comb\", x=\"time\", data=combs.sort_values(['time'], ascending=False), kind=\"bar\");"
   ]
  },
  {
   "cell_type": "markdown",
   "metadata": {},
   "source": [
    "Overall my recommendation would be to use either one of the following combinations:\n",
    "\n",
    "- FAST-BRIEF\n",
    "- FAST-ORB\n",
    "- ORB-BRIEF\n",
    "\n",
    "They all feature a comparatively great performance in speed and a really low distance of matched keypoints, which means a high likelyhood that the result will be accurate.  "
   ]
  },
  {
   "cell_type": "code",
   "execution_count": null,
   "metadata": {},
   "outputs": [],
   "source": []
  }
 ],
 "metadata": {
  "kernelspec": {
   "display_name": "Python 3",
   "language": "python",
   "name": "python3"
  },
  "language_info": {
   "codemirror_mode": {
    "name": "ipython",
    "version": 3
   },
   "file_extension": ".py",
   "mimetype": "text/x-python",
   "name": "python",
   "nbconvert_exporter": "python",
   "pygments_lexer": "ipython3",
   "version": "3.7.4"
  }
 },
 "nbformat": 4,
 "nbformat_minor": 2
}
